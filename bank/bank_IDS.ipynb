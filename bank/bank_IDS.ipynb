{
 "cells": [
  {
   "cell_type": "code",
   "execution_count": 34,
   "metadata": {},
   "outputs": [],
   "source": [
    "from pandas import *\n",
    "from sklearn.calibration import LabelEncoder\n",
    "import seaborn as sns\n",
    "import matplotlib.pyplot as plt\n",
    "import matplotlib.cm as cm\n",
    "from sklearn.cluster import KMeans\n",
    "from sklearn.metrics import silhouette_score\n",
    "from sklearn.model_selection import train_test_split\n"
   ]
  },
  {
   "cell_type": "code",
   "execution_count": 15,
   "metadata": {},
   "outputs": [],
   "source": [
    "data = read_csv('./Train_data.csv')\n",
    "# data.value_counts()\n",
    "# data.drop(['duration'], axis = 1)"
   ]
  },
  {
   "cell_type": "code",
   "execution_count": 16,
   "metadata": {},
   "outputs": [],
   "source": [
    "feature = ['protocol_type', 'service', 'flag', 'src_bytes', 'dst_bytes', 'num_failed_logins', 'logged_in', 'num_compromised', 'num_file_creations', 'num_outbound_cmds', 'class']\n",
    "f_data = data[feature]\n",
    "# f_data.dtypes"
   ]
  },
  {
   "cell_type": "markdown",
   "metadata": {},
   "source": [
    "Convert object dtypes to int"
   ]
  },
  {
   "cell_type": "code",
   "execution_count": null,
   "metadata": {},
   "outputs": [],
   "source": [
    "label_encoder = LabelEncoder()\n",
    "for f in ['protocol_type', 'service', 'flag', 'class']:\n",
    "    f_data[f] = label_encoder.fit_transform(f_data[f])\n",
    "# f_data.dtypes"
   ]
  },
  {
   "cell_type": "code",
   "execution_count": null,
   "metadata": {},
   "outputs": [],
   "source": [
    "sns.scatterplot(data = f_data, x='protocol_type', y = 'service', hue='class')\n",
    "# sns.scatterplot(data = f_data, x='protocol_type', y = 'class', hue='service')\n",
    "plt.savefig('scatter1.png')\n",
    "plt.show()"
   ]
  },
  {
   "cell_type": "markdown",
   "metadata": {},
   "source": [
    "split 'm up"
   ]
  },
  {
   "cell_type": "code",
   "execution_count": 19,
   "metadata": {},
   "outputs": [],
   "source": [
    "X = f_data.drop(['class'], axis = 1)\n",
    "y = f_data['class']"
   ]
  },
  {
   "cell_type": "code",
   "execution_count": 43,
   "metadata": {},
   "outputs": [
    {
     "data": {
      "text/plain": [
       "(5039, 10)"
      ]
     },
     "execution_count": 43,
     "metadata": {},
     "output_type": "execute_result"
    }
   ],
   "source": [
    "X_train, X_test, y_train, y_test = train_test_split(X, y, test_size=0.2, random_state=0)\n",
    "X_test.shape"
   ]
  },
  {
   "cell_type": "markdown",
   "metadata": {},
   "source": [
    "# Fit"
   ]
  },
  {
   "cell_type": "code",
   "execution_count": null,
   "metadata": {},
   "outputs": [],
   "source": [
    "kmeans = KMeans(n_clusters = 3, random_state = 0, n_init='auto')\n",
    "kmeans.fit(X_train)"
   ]
  },
  {
   "cell_type": "code",
   "execution_count": null,
   "metadata": {},
   "outputs": [],
   "source": [
    "sns.scatterplot(data = X_train, x = 'protocol_type', y = 'service', hue = kmeans.labels_)\n",
    "plt.savefig('scatter2.png')\n",
    "plt.show()"
   ]
  },
  {
   "cell_type": "code",
   "execution_count": null,
   "metadata": {},
   "outputs": [],
   "source": [
    "sns.boxplot(x = kmeans.labels_, y = y_train)\n",
    "plt.savefig('boxplot1.png')\n",
    "plt.show()"
   ]
  },
  {
   "cell_type": "code",
   "execution_count": 24,
   "metadata": {},
   "outputs": [],
   "source": [
    "# silhouette_score(X_train, kmeans.labels_, metric='euclidean')"
   ]
  },
  {
   "cell_type": "markdown",
   "metadata": {},
   "source": [
    "# Get cluster number"
   ]
  },
  {
   "cell_type": "code",
   "execution_count": 29,
   "metadata": {},
   "outputs": [],
   "source": [
    "K = range(2, 8)\n",
    "fits = []\n",
    "score = []\n",
    "inertia = []\n",
    "\n",
    "\n",
    "for k in K:\n",
    "    # train the model for current value of k on training data\n",
    "    model = KMeans(n_clusters = k, random_state = 0, n_init='auto').fit(X_train)\n",
    "    \n",
    "    # append the model to fits\n",
    "    # fits.append(model)\n",
    "    inertia.append(model.inertia_)\n",
    "    \n",
    "    # Append the silhouette score to scores\n",
    "    score.append(silhouette_score(X_train, model.labels_, metric='euclidean'))"
   ]
  },
  {
   "cell_type": "code",
   "execution_count": 26,
   "metadata": {},
   "outputs": [],
   "source": [
    "# sns.scatterplot(data = X_train, x = 'protocol_type', y = 'service', hue = fits[0].labels_)\n",
    "# plt.savefig('scatter3.png')\n",
    "# plt.show()"
   ]
  },
  {
   "cell_type": "code",
   "execution_count": 27,
   "metadata": {},
   "outputs": [],
   "source": [
    "# sns.scatterplot(data = X_train, x = 'protocol_type', y = 'service', hue = fits[2].labels_)"
   ]
  },
  {
   "cell_type": "code",
   "execution_count": null,
   "metadata": {},
   "outputs": [],
   "source": [
    "sns.lineplot(x = K, y = inertia)\n",
    "plt.savefig('elbow.png')\n",
    "plt.show()"
   ]
  },
  {
   "cell_type": "code",
   "execution_count": null,
   "metadata": {},
   "outputs": [],
   "source": [
    "kmeans = KMeans(n_clusters=5, init='k-means++', random_state= 42)  \n",
    "y_predict= kmeans.fit_predict(X_train)\n",
    "\n",
    "y_predict"
   ]
  },
  {
   "cell_type": "code",
   "execution_count": null,
   "metadata": {},
   "outputs": [],
   "source": [
    "kmeans.cluster_centers_"
   ]
  },
  {
   "cell_type": "code",
   "execution_count": 53,
   "metadata": {},
   "outputs": [
    {
     "data": {
      "text/plain": [
       "(20153, 10)"
      ]
     },
     "execution_count": 53,
     "metadata": {},
     "output_type": "execute_result"
    }
   ],
   "source": [
    "# X_train.iloc[: y_train.shape[0] , : ].shape"
   ]
  },
  {
   "cell_type": "code",
   "execution_count": 63,
   "metadata": {},
   "outputs": [
    {
     "data": {
      "image/png": "[encoded data removed]",
      "text/plain": [
       "<Figure size 1200x500 with 1 Axes>"
      ]
     },
     "metadata": {},
     "output_type": "display_data"
    }
   ],
   "source": [
    "plt.figure(figsize=(12,5))\n",
    "# plt.subplot(1,2,1)\n",
    "sns.scatterplot(data=y_predict)\n",
    "plt.grid(True)\n",
    "# for center in kmeans.cluster_centers_:\n",
    "#     center = center[:2]\n",
    "#     plt.scatter(center[0],center[1],marker = '^',c = 'red')\n",
    "# plt.xlabel(\"petal length (cm)\")\n",
    "# plt.ylabel(\"petal width (cm)\")\n",
    "plt.savefig('final.png')\n",
    "plt.show()"
   ]
  }
 ],
 "metadata": {
  "kernelspec": {
   "display_name": "Python 3",
   "language": "python",
   "name": "python3"
  },
  "language_info": {
   "codemirror_mode": {
    "name": "ipython",
    "version": 3
   },
   "file_extension": ".py",
   "mimetype": "text/x-python",
   "name": "python",
   "nbconvert_exporter": "python",
   "pygments_lexer": "ipython3",
   "version": "3.12.6"
  }
 },
 "nbformat": 4,
 "nbformat_minor": 2
}
