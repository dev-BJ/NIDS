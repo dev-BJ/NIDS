{
 "cells": [
  {
   "cell_type": "code",
   "execution_count": 65,
   "metadata": {},
   "outputs": [],
   "source": [
    "from pandas import read_parquet, get_dummies, DataFrame, Series\n",
    "from numpy import int8\n",
    "from sklearn.ensemble import RandomForestClassifier\n",
    "from sklearn.metrics import accuracy_score\n",
    "from sklearn.model_selection import train_test_split\n",
    "from sklearn.feature_selection import RFECV\n",
    "from sklearn.preprocessing import LabelEncoder\n",
    "from matplotlib.pyplot import barh, show, figure\n",
    "from sklearn.discriminant_analysis import StandardScaler\n",
    "import numpy as np\n",
    "from os import getcwd\n",
    "from os.path import exists, join, isfile\n",
    "import pickle as pl"
   ]
  },
  {
   "cell_type": "code",
   "execution_count": 66,
   "metadata": {},
   "outputs": [],
   "source": [
    "train = read_parquet('./dataset/UNSW_NB15_training-set.parquet')\n",
    "test = read_parquet('./dataset/UNSW_NB15_testing-set.parquet')\n",
    "rfecv_file=join(getcwd(), 'rfecv.pickle')\n",
    "# train.head()"
   ]
  },
  {
   "cell_type": "code",
   "execution_count": 67,
   "metadata": {},
   "outputs": [],
   "source": [
    "# train.info()"
   ]
  },
  {
   "cell_type": "markdown",
   "metadata": {},
   "source": [
    "# Check value counts in the Service column especially for '-' #"
   ]
  },
  {
   "cell_type": "code",
   "execution_count": 68,
   "metadata": {},
   "outputs": [],
   "source": [
    "# train['service'].value_counts()"
   ]
  },
  {
   "cell_type": "markdown",
   "metadata": {},
   "source": [
    "# List all columns with '-'"
   ]
  },
  {
   "cell_type": "code",
   "execution_count": 69,
   "metadata": {},
   "outputs": [],
   "source": [
    "# for col in train.columns:\n",
    "#     for row in train[col]:\n",
    "#         if(row == '-'):\n",
    "#             print(col)\n",
    "#             break"
   ]
  },
  {
   "cell_type": "markdown",
   "metadata": {},
   "source": [
    "# Feature selection"
   ]
  },
  {
   "cell_type": "code",
   "execution_count": 70,
   "metadata": {},
   "outputs": [],
   "source": [
    "train_dummy=get_dummies(train, prefix='service', prefix_sep='_', columns=['service'], drop_first=True, dtype=int8).drop(['dur','label'], axis=1)\n",
    "test=get_dummies(test, prefix='service', prefix_sep='_', columns=['service'], drop_first=True, dtype=int8).drop(['dur','label','attack_cat'], axis=1)\n",
    "# train_dummy"
   ]
  },
  {
   "cell_type": "code",
   "execution_count": 71,
   "metadata": {},
   "outputs": [],
   "source": [
    "# Unencoded target 'attack_cat'\n",
    "unencoded_y=train_dummy['attack_cat']"
   ]
  },
  {
   "cell_type": "markdown",
   "metadata": {},
   "source": [
    "Encode category columns"
   ]
  },
  {
   "cell_type": "code",
   "execution_count": 72,
   "metadata": {},
   "outputs": [],
   "source": [
    "label_encoder=LabelEncoder()\n",
    "for cat_col in train_dummy.columns:\n",
    "    train_dummy[cat_col]=label_encoder.fit_transform(train_dummy[cat_col])\n",
    "\n",
    "# Encoded target\n",
    "encoded_y=train_dummy['attack_cat']\n",
    "# train_dummy"
   ]
  },
  {
   "cell_type": "markdown",
   "metadata": {},
   "source": [
    "Use 3% of data (The classifier seems to be taking more space than expected)"
   ]
  },
  {
   "cell_type": "code",
   "execution_count": 73,
   "metadata": {},
   "outputs": [],
   "source": [
    "X=train_dummy.drop('attack_cat', axis=1).sample(n=int(0.5 * len(train_dummy)), random_state=0)\n",
    "y=train_dummy['attack_cat'][X.index]\n",
    "\n",
    "# X_size = int(0.03 * len(X))\n",
    "# X = X.sample(n=int(0.03 * len(X)), random_state=42)\n",
    "# y = y[X.index]"
   ]
  },
  {
   "cell_type": "code",
   "execution_count": 74,
   "metadata": {},
   "outputs": [],
   "source": [
    "X_train, X_test, y_train, y_test = train_test_split(X, y, test_size=0.2, random_state=42)"
   ]
  },
  {
   "cell_type": "code",
   "execution_count": null,
   "metadata": {},
   "outputs": [],
   "source": [
    "rf_fes=RandomForestClassifier(random_state=0)\n",
    "rf_fes.fit(X_train, y_train)"
   ]
  },
  {
   "cell_type": "code",
   "execution_count": 76,
   "metadata": {},
   "outputs": [],
   "source": [
    "# list(zip(X_train.columns,rf_fes.feature_importances_))"
   ]
  },
  {
   "cell_type": "code",
   "execution_count": 77,
   "metadata": {},
   "outputs": [],
   "source": [
    "# figure(figsize=(6,12))\n",
    "# barh(X_train.columns,rf_fes.feature_importances_)\n",
    "# show()\n",
    "# dt=None"
   ]
  },
  {
   "cell_type": "code",
   "execution_count": 78,
   "metadata": {},
   "outputs": [],
   "source": [
    "\n",
    "if(exists(rfecv_file) and isfile(rfecv_file)):\n",
    "    with open(rfecv_file, 'rb') as rfe_cv:\n",
    "        rfe=pl.load(rfe_cv)\n",
    "else:\n",
    "    rfe=RFECV(rf_fes,cv=5,scoring='accuracy')\n",
    "    rfe.fit(X_train, y_train)\n",
    "    with open(rfecv_file, 'wb') as rfe_cv:\n",
    "        pl.dump(rfe, rfe_cv)"
   ]
  },
  {
   "cell_type": "code",
   "execution_count": 79,
   "metadata": {},
   "outputs": [],
   "source": [
    "# with open(rfecv_file, 'wb') as rfe_cv:\n",
    "#         pl.dump(rfe, rfe_cv)"
   ]
  },
  {
   "cell_type": "code",
   "execution_count": 80,
   "metadata": {},
   "outputs": [],
   "source": [
    "# rfe=RFECV(rf_fes,cv=5,scoring='accuracy')\n",
    "# rfe.fit(X_train, y_train)"
   ]
  },
  {
   "cell_type": "code",
   "execution_count": 81,
   "metadata": {},
   "outputs": [],
   "source": [
    "# rfe.get_support()"
   ]
  },
  {
   "cell_type": "code",
   "execution_count": 82,
   "metadata": {},
   "outputs": [],
   "source": [
    "feature_selected=[col_name for col_name, col_vec in list(zip(X_train.columns, rfe.get_support())) if(col_vec == True)]\n",
    "new_X=X_train[feature_selected]"
   ]
  },
  {
   "cell_type": "markdown",
   "metadata": {},
   "source": [
    "# Actual prediction"
   ]
  },
  {
   "cell_type": "code",
   "execution_count": null,
   "metadata": {},
   "outputs": [],
   "source": [
    "rf_actual=RandomForestClassifier(random_state=0)\n",
    "rf_actual.fit(new_X, y_train)"
   ]
  },
  {
   "cell_type": "markdown",
   "metadata": {},
   "source": [
    "Prediction using the test dataset"
   ]
  },
  {
   "cell_type": "code",
   "execution_count": 84,
   "metadata": {},
   "outputs": [],
   "source": [
    "# test.head()\n",
    "for test_col in test.columns:\n",
    "    test[test_col]=label_encoder.fit_transform(test[test_col])\n",
    "test=test[feature_selected]"
   ]
  },
  {
   "cell_type": "code",
   "execution_count": null,
   "metadata": {},
   "outputs": [],
   "source": [
    "y_pred=rf_actual.predict(test)\n",
    "len(y_pred)"
   ]
  },
  {
   "cell_type": "markdown",
   "metadata": {},
   "source": [
    "# Mapped y 'attack_cat' which is the target"
   ]
  },
  {
   "cell_type": "code",
   "execution_count": 86,
   "metadata": {},
   "outputs": [],
   "source": [
    "map_y=Series(list(zip(unencoded_y, encoded_y)), name='mapped_y')\n",
    "mapped_y=[cat_list for cat_list, cat_count in map_y.value_counts().sort_index().items()]"
   ]
  },
  {
   "cell_type": "markdown",
   "metadata": {},
   "source": [
    "# Interpret y_pred to attack category"
   ]
  },
  {
   "cell_type": "code",
   "execution_count": null,
   "metadata": {},
   "outputs": [],
   "source": [
    "y_pred_attack_cat=[]\n",
    "for y_pred_i in y_pred:\n",
    "    # print(y_pred_i)\n",
    "    for cat, enc in mapped_y:\n",
    "        if(y_pred_i == enc):\n",
    "            y_pred_attack_cat.append(cat)\n",
    "            break\n",
    "y_pred_attack_cat"
   ]
  },
  {
   "cell_type": "code",
   "execution_count": 97,
   "metadata": {},
   "outputs": [
    {
     "data": {
      "text/plain": [
       "np.int64(6)"
      ]
     },
     "execution_count": 97,
     "metadata": {},
     "output_type": "execute_result"
    }
   ],
   "source": [
    "# y_test.info()\n",
    "y_pred[0]\n",
    "# accuracy_score(y_test, Series(y_pred, name='y_pred'))"
   ]
  }
 ],
 "metadata": {
  "kernelspec": {
   "display_name": "Python 3",
   "language": "python",
   "name": "python3"
  },
  "language_info": {
   "codemirror_mode": {
    "name": "ipython",
    "version": 3
   },
   "file_extension": ".py",
   "mimetype": "text/x-python",
   "name": "python",
   "nbconvert_exporter": "python",
   "pygments_lexer": "ipython3",
   "version": "3.12.6"
  }
 },
 "nbformat": 4,
 "nbformat_minor": 2
}
