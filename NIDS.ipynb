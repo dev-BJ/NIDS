{
 "cells": [
  {
   "cell_type": "code",
   "execution_count": 106,
   "metadata": {},
   "outputs": [],
   "source": [
    "from pandas import read_parquet, get_dummies, DataFrame, Series\n",
    "from numpy import int8\n",
    "from sklearn.ensemble import RandomForestClassifier\n",
    "from sklearn.metrics import ConfusionMatrixDisplay, accuracy_score, confusion_matrix, f1_score, precision_recall_curve, precision_score, recall_score, roc_auc_score, roc_curve\n",
    "from sklearn.model_selection import train_test_split\n",
    "from sklearn.feature_selection import RFECV\n",
    "from sklearn.preprocessing import LabelEncoder\n",
    "import matplotlib.pyplot as plt\n",
    "import seaborn as sns\n",
    "import numpy as np\n",
    "import os\n",
    "from os.path import join, exists, isfile\n",
    "import pickle as pl\n"
   ]
  },
  {
   "cell_type": "code",
   "execution_count": 74,
   "metadata": {},
   "outputs": [],
   "source": [
    "train = read_parquet('./dataset/UNSW_NB15_training-set.parquet')\n",
    "test = read_parquet('./dataset/UNSW_NB15_testing-set.parquet')\n",
    "rfecv_file=join(os.getcwd(), 'pickles/rfecv.pickle')\n",
    "intrusion_model=join(os.getcwd(), 'pickles/intrusion_model.pickle')\n",
    "attack_map=join(os.getcwd(), 'pickles/attack_map.pickle')\n",
    "# train_heat=DataFrame({})\n",
    "# head=test.head(10)\n",
    "# head.to_excel('test_head.xlsx')\n",
    "# rfecv_file"
   ]
  },
  {
   "cell_type": "code",
   "execution_count": 75,
   "metadata": {},
   "outputs": [],
   "source": [
    "# train.isnull().sum()\n",
    "# train.info()"
   ]
  },
  {
   "cell_type": "code",
   "execution_count": 76,
   "metadata": {},
   "outputs": [],
   "source": [
    "# train.info()\n",
    "# plt.figure(figsize=(10, 6))\n",
    "# sns.boxplot(data=train, x='attack_cat')\n",
    "# plt.tight_layout()\n",
    "# plt.show()"
   ]
  },
  {
   "cell_type": "code",
   "execution_count": 77,
   "metadata": {},
   "outputs": [],
   "source": [
    "# train.columns\n",
    "# train.info()\n",
    "# boxsel=[col for col in train.columns if train[col].dtype=='category']\n",
    "# train[boxsel]"
   ]
  },
  {
   "cell_type": "code",
   "execution_count": 78,
   "metadata": {},
   "outputs": [],
   "source": [
    "# label_encoder=LabelEncoder()\n",
    "# for cat_col in train.columns:\n",
    "#     # print(cat_col)\n",
    "#     train_heat[cat_col]=label_encoder.fit_transform(train[cat_col])"
   ]
  },
  {
   "cell_type": "code",
   "execution_count": 79,
   "metadata": {},
   "outputs": [],
   "source": [
    "# plt.figure(figsize=(20,18))\n",
    "# plt.rcParams.update({'font.size': 10})\n",
    "# sns.heatmap(train_heat.corr(), cmap = 'coolwarm', vmin = -1, vmax = 1, center = 0, annot=True, fmt=\".2f\", square=True, linewidths=.5)\n",
    "# plt.title('Network Intrusion Detection Heatmap')\n",
    "# plt.grid(True)\n",
    "# plt.tight_layout()\n",
    "# plt.savefig('heatmap.png')\n",
    "# plt.show()\n",
    "# Check value counts in the Service column especially for '-' #"
   ]
  },
  {
   "cell_type": "code",
   "execution_count": 80,
   "metadata": {},
   "outputs": [],
   "source": [
    "# train['service'].value_counts()\n",
    "# train.shape"
   ]
  },
  {
   "cell_type": "markdown",
   "metadata": {},
   "source": [
    "# List all columns with '-'"
   ]
  },
  {
   "cell_type": "code",
   "execution_count": 81,
   "metadata": {},
   "outputs": [],
   "source": [
    "# for col in train.columns:\n",
    "#     for row in train[col]:\n",
    "#         if(row == '-'):\n",
    "#             print(col)\n",
    "#             break"
   ]
  },
  {
   "cell_type": "markdown",
   "metadata": {},
   "source": [
    "# Feature selection"
   ]
  },
  {
   "cell_type": "code",
   "execution_count": 82,
   "metadata": {},
   "outputs": [],
   "source": [
    "train_dummy=get_dummies(train, prefix='service', prefix_sep='_', columns=['service'], drop_first=True, dtype=int8).drop(['dur','label'], axis=1)\n",
    "test=get_dummies(test, prefix='service', prefix_sep='_', columns=['service'], drop_first=True, dtype=int8).drop(['dur','label','attack_cat'], axis=1)\n",
    "# train_dummy"
   ]
  },
  {
   "cell_type": "code",
   "execution_count": 83,
   "metadata": {},
   "outputs": [],
   "source": [
    "# Unencoded target 'attack_cat'\n",
    "unencoded_y=train_dummy['attack_cat']"
   ]
  },
  {
   "cell_type": "markdown",
   "metadata": {},
   "source": [
    "Encode category columns"
   ]
  },
  {
   "cell_type": "code",
   "execution_count": 84,
   "metadata": {},
   "outputs": [],
   "source": [
    "label_encoder=LabelEncoder()\n",
    "for cat_col in train_dummy.columns:\n",
    "    # print(cat_col)\n",
    "    train_dummy[cat_col]=label_encoder.fit_transform(train_dummy[cat_col])\n",
    "\n",
    "# Encoded target\n",
    "encoded_y=train_dummy['attack_cat']\n",
    "# train_dummy"
   ]
  },
  {
   "cell_type": "markdown",
   "metadata": {},
   "source": [
    "Use 3% of data (The classifier seems to be taking more space than expected)"
   ]
  },
  {
   "cell_type": "code",
   "execution_count": 85,
   "metadata": {},
   "outputs": [],
   "source": [
    "X=train_dummy.drop('attack_cat', axis=1).sample(n=int(0.5 * len(train_dummy)), random_state=0)\n",
    "y=train_dummy['attack_cat'][X.index]\n",
    "\n",
    "# X_size = int(0.03 * len(X))\n",
    "# X = X.sample(n=int(0.03 * len(X)), random_state=42)\n",
    "# y = y[X.index]"
   ]
  },
  {
   "cell_type": "code",
   "execution_count": 86,
   "metadata": {},
   "outputs": [],
   "source": [
    "X_train, X_test, y_train, y_test = train_test_split(X, y, test_size=0.2, random_state=42)"
   ]
  },
  {
   "cell_type": "code",
   "execution_count": 87,
   "metadata": {},
   "outputs": [],
   "source": [
    "if(exists(rfecv_file) == False):\n",
    "    rf_fes=RandomForestClassifier(random_state=0)\n",
    "    rf_fes.fit(X_train, y_train)"
   ]
  },
  {
   "cell_type": "code",
   "execution_count": 88,
   "metadata": {},
   "outputs": [],
   "source": [
    "# rf_fes=RandomForestClassifier(random_state=0)\n",
    "# rf_fes.fit(X_train, y_train)"
   ]
  },
  {
   "cell_type": "code",
   "execution_count": 89,
   "metadata": {},
   "outputs": [],
   "source": [
    "# rf_fes.feature_importances_\n",
    "# X_train.columns"
   ]
  },
  {
   "cell_type": "code",
   "execution_count": 90,
   "metadata": {},
   "outputs": [],
   "source": [
    "# list(zip(X_train.columns,rf_fes.feature_importances_))"
   ]
  },
  {
   "cell_type": "code",
   "execution_count": 91,
   "metadata": {},
   "outputs": [],
   "source": [
    "# plt.figure(figsize=(6,12))\n",
    "# plt.barh(X_train.columns,rf_fes.feature_importances_)\n",
    "# plt.ylabel('Features')\n",
    "# plt.xlabel('Feature Importance')\n",
    "# plt.title('Feature importance for Network Intrusion Detection')\n",
    "# plt.show()\n",
    "# rfecv_file"
   ]
  },
  {
   "cell_type": "code",
   "execution_count": 92,
   "metadata": {},
   "outputs": [],
   "source": [
    "\n",
    "if(exists(rfecv_file) and isfile(rfecv_file)):\n",
    "    with open(rfecv_file, 'rb') as rfe_cv:\n",
    "        # print(rfe_cv)\n",
    "        rfe=pl.load(rfe_cv)\n",
    "        # pass\n",
    "else:\n",
    "    rfe=RFECV(rf_fes,cv=5,scoring='accuracy')\n",
    "    rfe.fit(X_train, y_train)\n",
    "    with open(rfecv_file, 'wb') as rfe_cv:\n",
    "        pl.dump(rfe, rfe_cv)"
   ]
  },
  {
   "cell_type": "code",
   "execution_count": 93,
   "metadata": {},
   "outputs": [],
   "source": [
    "# with open(rfecv_file, 'wb') as rfe_cv:\n",
    "#         pl.dump(rfe, rfe_cv)"
   ]
  },
  {
   "cell_type": "code",
   "execution_count": 94,
   "metadata": {},
   "outputs": [],
   "source": [
    "# rfe=RFECV(rf_fes,cv=5,scoring='accuracy')\n",
    "# rfe.fit(X_train, y_train)"
   ]
  },
  {
   "cell_type": "code",
   "execution_count": 95,
   "metadata": {},
   "outputs": [],
   "source": [
    "# rfe.get_support()"
   ]
  },
  {
   "cell_type": "code",
   "execution_count": 96,
   "metadata": {},
   "outputs": [],
   "source": [
    "# feature_selected=[]\n",
    "# for col_name, col_vec in list(zip(X_train.columns, rfe.get_support())):\n",
    "#     if(col_vec == True):\n",
    "#         feature_selected.append(col_name)\n",
    "\n",
    "feature_selected=[col_name for col_name, col_vec in list(zip(X_train.columns, rfe.get_support())) if(col_vec == True)]\n",
    "new_X=X_train[feature_selected]"
   ]
  },
  {
   "cell_type": "markdown",
   "metadata": {},
   "source": [
    "# Actual prediction"
   ]
  },
  {
   "cell_type": "code",
   "execution_count": 97,
   "metadata": {},
   "outputs": [],
   "source": [
    "# rf_actual=RandomForestClassifier(random_state=0)\n",
    "# rf_actual.fit(new_X, y_train)\n",
    "\n",
    "if(exists(intrusion_model) and isfile(intrusion_model)):\n",
    "    with open(intrusion_model, 'rb') as i_m:\n",
    "        # print(rfe_cv)\n",
    "        rf_actual=pl.load(i_m)\n",
    "        # pass\n",
    "else:\n",
    "    rf_actual=RandomForestClassifier(random_state=0)\n",
    "    rf_actual.fit(new_X, y_train)\n",
    "    with open(intrusion_model, 'wb') as i_m:\n",
    "        pl.dump(rf_actual, i_m)"
   ]
  },
  {
   "cell_type": "markdown",
   "metadata": {},
   "source": [
    "Prediction using the test dataset"
   ]
  },
  {
   "cell_type": "code",
   "execution_count": 98,
   "metadata": {},
   "outputs": [],
   "source": [
    "# test.head()\n",
    "for test_col in test.columns:\n",
    "    test[test_col]=label_encoder.fit_transform(test[test_col])\n",
    "test=test[feature_selected]"
   ]
  },
  {
   "cell_type": "code",
   "execution_count": null,
   "metadata": {},
   "outputs": [],
   "source": [
    "y_pred=rf_actual.predict(X_test[feature_selected])\n",
    "y_p_p=rf_actual.predict_proba(X_test[feature_selected])[:, 1]\n",
    "print('Accuracy Score: ', accuracy_score(y_test, y_pred))\n",
    "print('F1 Score: ', f1_score(y_test, y_pred, average='weighted'))\n",
    "# print(roc_auc_score(y_test, y_pred, average='weighted', multi_class='ovo'))\n",
    "print('Recall Score: ', recall_score(y_test, y_pred, average='weighted'))\n",
    "print('Precision Score: ', precision_score(y_test, y_pred, average='weighted'))\n",
    "# print(y_class)\n"
   ]
  },
  {
   "cell_type": "code",
   "execution_count": null,
   "metadata": {},
   "outputs": [],
   "source": [
    "# precision, recall, thresholds = roc_curve(y_test, y_p_p, pos_label=True)\n",
    "# plt.fill_between(recall, precision)\n",
    "# plt.ylabel(\"True Positive Rate\")\n",
    "# plt.xlabel(\"False Positive Rate\")\n",
    "# plt.grid(True)\n",
    "# plt.title(\"Network Intrusion Detection - ROC curve\")\n",
    "# plt.savefig('roc.jpg')"
   ]
  },
  {
   "cell_type": "code",
   "execution_count": null,
   "metadata": {},
   "outputs": [],
   "source": [
    "\n",
    "# ConfusionMatrixDisplay(confusion_matrix=confusion_matrix(y_test, y_pred, labels=rf_actual.classes_), display_labels=rf_actual.classes_).plot()\n",
    "# plt.savefig('conf_mat.jpg')\n",
    "# plt.show()"
   ]
  },
  {
   "cell_type": "markdown",
   "metadata": {},
   "source": [
    "# Mapped y 'attack_cat' which is the target"
   ]
  },
  {
   "cell_type": "code",
   "execution_count": 102,
   "metadata": {},
   "outputs": [],
   "source": [
    "map_y=Series(list(zip(unencoded_y, encoded_y)), name='mapped_y')\n",
    "mapped_y=[cat_list for cat_list, cat_count in map_y.value_counts().sort_index().items()]"
   ]
  },
  {
   "cell_type": "markdown",
   "metadata": {},
   "source": [
    "# Interpret y_pred to attack category"
   ]
  },
  {
   "cell_type": "code",
   "execution_count": 103,
   "metadata": {},
   "outputs": [],
   "source": [
    "y_pred_attack_cat=[]\n",
    "# for y_pred_i in y_pred:\n",
    "#     # print(y_pred_i)\n",
    "#     for cat, enc in mapped_y:\n",
    "#         if(y_pred_i == enc):\n",
    "#             y_pred_attack_cat.append(cat)\n",
    "#             break\n",
    "\n",
    "if(exists(attack_map) and isfile(attack_map)):\n",
    "    with open(attack_map, 'rb') as att_map:\n",
    "        # print(rfe_cv)\n",
    "        y_pred_attack_cat=pl.load(att_map)\n",
    "        # pass\n",
    "else:\n",
    "    for y_pred_i in y_pred:\n",
    "    # print(y_pred_i)\n",
    "        for cat, enc in mapped_y:\n",
    "            if(y_pred_i == enc):\n",
    "                y_pred_attack_cat.append(cat)\n",
    "                break\n",
    "    with open(attack_map, 'wb') as att_map:\n",
    "        pl.dump(y_pred_attack_cat, att_map)\n",
    "# y_pred_attack_cat\n"
   ]
  },
  {
   "cell_type": "code",
   "execution_count": 104,
   "metadata": {},
   "outputs": [],
   "source": [
    "Y_pred_att_cat=Series(y_pred_attack_cat, name='y_pred_attack_category')\n",
    "X_plt=[cat_list[0] for cat_list in list(Y_pred_att_cat.value_counts().sort_values().items())]\n",
    "y_plt=[cat_list[1] for cat_list in list(Y_pred_att_cat.value_counts().sort_values().items())]\n",
    "\n",
    "# list(Y_pred_att_cat.value_counts().sort_values().items())"
   ]
  },
  {
   "cell_type": "code",
   "execution_count": null,
   "metadata": {},
   "outputs": [],
   "source": [
    "plt.figure(figsize=(9,7))\n",
    "\n",
    "plt.plot(X_plt, y_plt, marker='d', ms=5)\n",
    "plt.tight_layout()\n",
    "plt.show()"
   ]
  }
 ],
 "metadata": {
  "kernelspec": {
   "display_name": "Python 3",
   "language": "python",
   "name": "python3"
  },
  "language_info": {
   "codemirror_mode": {
    "name": "ipython",
    "version": 3
   },
   "file_extension": ".py",
   "mimetype": "text/x-python",
   "name": "python",
   "nbconvert_exporter": "python",
   "pygments_lexer": "ipython3",
   "version": "3.12.6"
  }
 },
 "nbformat": 4,
 "nbformat_minor": 2
}
