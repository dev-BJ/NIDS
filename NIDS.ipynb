{
 "cells": [
  {
   "cell_type": "code",
   "execution_count": 18,
   "metadata": {},
   "outputs": [],
   "source": [
    "from pandas import read_parquet, get_dummies, DataFrame, Series\n",
    "from numpy import int8\n",
    "from sklearn.ensemble import RandomForestClassifier\n",
    "from sklearn.metrics import accuracy_score\n",
    "from sklearn.model_selection import train_test_split\n",
    "from sklearn.feature_selection import RFECV\n",
    "from sklearn.preprocessing import LabelEncoder\n",
    "import matplotlib.pyplot as plt\n",
    "import numpy as np\n",
    "import os\n",
    "from os.path import join, exists, isfile\n",
    "import pickle as pl"
   ]
  },
  {
   "cell_type": "code",
   "execution_count": 19,
   "metadata": {},
   "outputs": [],
   "source": [
    "train = read_parquet('./dataset/UNSW_NB15_training-set.parquet')\n",
    "test = read_parquet('./dataset/UNSW_NB15_testing-set.parquet')\n",
    "rfecv_file=join(os.getcwd(), 'rfecv.pickle')\n",
    "# head=test.head(10)\n",
    "# head.to_excel('test_head.xlsx')\n",
    "# rfecv_file"
   ]
  },
  {
   "cell_type": "code",
   "execution_count": 20,
   "metadata": {},
   "outputs": [],
   "source": [
    "# train.info()"
   ]
  },
  {
   "cell_type": "markdown",
   "metadata": {},
   "source": [
    "# Check value counts in the Service column especially for '-' #"
   ]
  },
  {
   "cell_type": "code",
   "execution_count": null,
   "metadata": {},
   "outputs": [],
   "source": [
    "# train['service'].value_counts()\n",
    "# train.shape"
   ]
  },
  {
   "cell_type": "markdown",
   "metadata": {},
   "source": [
    "# List all columns with '-'"
   ]
  },
  {
   "cell_type": "code",
   "execution_count": 22,
   "metadata": {},
   "outputs": [],
   "source": [
    "# for col in train.columns:\n",
    "#     for row in train[col]:\n",
    "#         if(row == '-'):\n",
    "#             print(col)\n",
    "#             break"
   ]
  },
  {
   "cell_type": "markdown",
   "metadata": {},
   "source": [
    "# Feature selection"
   ]
  },
  {
   "cell_type": "code",
   "execution_count": 23,
   "metadata": {},
   "outputs": [],
   "source": [
    "train_dummy=get_dummies(train, prefix='service', prefix_sep='_', columns=['service'], drop_first=True, dtype=int8).drop(['dur','label'], axis=1)\n",
    "test=get_dummies(test, prefix='service', prefix_sep='_', columns=['service'], drop_first=True, dtype=int8).drop(['dur','label','attack_cat'], axis=1)\n",
    "# train_dummy"
   ]
  },
  {
   "cell_type": "code",
   "execution_count": 24,
   "metadata": {},
   "outputs": [],
   "source": [
    "# Unencoded target 'attack_cat'\n",
    "unencoded_y=train_dummy['attack_cat']"
   ]
  },
  {
   "cell_type": "markdown",
   "metadata": {},
   "source": [
    "Encode category columns"
   ]
  },
  {
   "cell_type": "code",
   "execution_count": 25,
   "metadata": {},
   "outputs": [],
   "source": [
    "label_encoder=LabelEncoder()\n",
    "for cat_col in train_dummy.columns:\n",
    "    # print(cat_col)\n",
    "    train_dummy[cat_col]=label_encoder.fit_transform(train_dummy[cat_col])\n",
    "\n",
    "# Encoded target\n",
    "encoded_y=train_dummy['attack_cat']\n",
    "# train_dummy"
   ]
  },
  {
   "cell_type": "markdown",
   "metadata": {},
   "source": [
    "Use 3% of data (The classifier seems to be taking more space than expected)"
   ]
  },
  {
   "cell_type": "code",
   "execution_count": 26,
   "metadata": {},
   "outputs": [],
   "source": [
    "X=train_dummy.drop('attack_cat', axis=1).sample(n=int(0.5 * len(train_dummy)), random_state=0)\n",
    "y=train_dummy['attack_cat'][X.index]\n",
    "\n",
    "# X_size = int(0.03 * len(X))\n",
    "# X = X.sample(n=int(0.03 * len(X)), random_state=42)\n",
    "# y = y[X.index]"
   ]
  },
  {
   "cell_type": "code",
   "execution_count": 27,
   "metadata": {},
   "outputs": [],
   "source": [
    "X_train, X_test, y_train, y_test = train_test_split(X, y, test_size=0.2, random_state=42)"
   ]
  },
  {
   "cell_type": "code",
   "execution_count": 28,
   "metadata": {},
   "outputs": [],
   "source": [
    "if(exists(rfecv_file) == False):\n",
    "    rf_fes=RandomForestClassifier(random_state=0)\n",
    "    rf_fes.fit(X_train, y_train)"
   ]
  },
  {
   "cell_type": "code",
   "execution_count": 29,
   "metadata": {},
   "outputs": [],
   "source": [
    "# rf_fes.feature_importances_\n",
    "# X_train.columns"
   ]
  },
  {
   "cell_type": "code",
   "execution_count": 34,
   "metadata": {},
   "outputs": [
    {
     "data": {
      "text/plain": [
       "[('proto', np.float64(0.03538646568956067)),\n",
       " ('state', np.float64(0.009841244819194359)),\n",
       " ('spkts', np.float64(0.014335661496643289)),\n",
       " ('dpkts', np.float64(0.024797685243152484)),\n",
       " ('sbytes', np.float64(0.10630599030986654)),\n",
       " ('dbytes', np.float64(0.03815481830352469)),\n",
       " ('rate', np.float64(0.05392286653394353)),\n",
       " ('sload', np.float64(0.054996046636971406)),\n",
       " ('dload', np.float64(0.03754363414485831)),\n",
       " ('sloss', np.float64(0.013244220997911357)),\n",
       " ('dloss', np.float64(0.012288048777488748)),\n",
       " ('sinpkt', np.float64(0.029591223426361658)),\n",
       " ('dinpkt', np.float64(0.031038709963212854)),\n",
       " ('sjit', np.float64(0.02868280496392378)),\n",
       " ('djit', np.float64(0.016414128991125262)),\n",
       " ('swin', np.float64(0.002502770111004023)),\n",
       " ('stcpb', np.float64(0.010878994086082065)),\n",
       " ('dtcpb', np.float64(0.011379004395401213)),\n",
       " ('dwin', np.float64(0.0003174331664460961)),\n",
       " ('tcprtt', np.float64(0.041652333710589094)),\n",
       " ('synack', np.float64(0.03686961785807361)),\n",
       " ('ackdat', np.float64(0.037720834471599254)),\n",
       " ('smean', np.float64(0.08624476035499141)),\n",
       " ('dmean', np.float64(0.03602735982668463)),\n",
       " ('trans_depth', np.float64(0.004570531523353161)),\n",
       " ('response_body_len', np.float64(0.004311111495882566)),\n",
       " ('ct_src_dport_ltm', np.float64(0.07230601033977431)),\n",
       " ('ct_dst_sport_ltm', np.float64(0.07732982356730701)),\n",
       " ('is_ftp_login', np.float64(9.782664596473992e-05)),\n",
       " ('ct_ftp_cmd', np.float64(0.0003955412189930649)),\n",
       " ('ct_flw_http_mthd', np.float64(0.0060055781064957455)),\n",
       " ('is_sm_ips_ports', np.float64(0.004364120617789621)),\n",
       " ('service_dhcp', np.float64(0.0002747706842161165)),\n",
       " ('service_dns', np.float64(0.04819475536247922)),\n",
       " ('service_ftp', np.float64(0.00047150984526131824)),\n",
       " ('service_ftp-data', np.float64(0.0017022504637488724)),\n",
       " ('service_http', np.float64(0.006964343760557503)),\n",
       " ('service_irc', np.float64(8.221785432315842e-05)),\n",
       " ('service_pop3', np.float64(0.0001736039534132762)),\n",
       " ('service_radius', np.float64(5.6257110082925835e-05)),\n",
       " ('service_smtp', np.float64(0.0019942864457802743)),\n",
       " ('service_snmp', np.float64(0.0004702008535009852)),\n",
       " ('service_ssh', np.float64(3.0120621756142685e-05)),\n",
       " ('service_ssl', np.float64(6.848125070947305e-05))]"
      ]
     },
     "execution_count": 34,
     "metadata": {},
     "output_type": "execute_result"
    }
   ],
   "source": [
    "list(zip(X_train.columns,rf_fes.feature_importances_))"
   ]
  },
  {
   "cell_type": "code",
   "execution_count": 31,
   "metadata": {},
   "outputs": [],
   "source": [
    "# figure(figsize=(6,12))\n",
    "# barh(X_train.columns,rf_fes.feature_importances_)\n",
    "# show()\n",
    "# rfecv_file"
   ]
  },
  {
   "cell_type": "code",
   "execution_count": null,
   "metadata": {},
   "outputs": [],
   "source": [
    "\n",
    "if(exists(rfecv_file) and isfile(rfecv_file)):\n",
    "    with open(rfecv_file, 'rb') as rfe_cv:\n",
    "        # print(rfe_cv)\n",
    "        rfe=pl.load(rfe_cv)\n",
    "        # pass\n",
    "else:\n",
    "    rfe=RFECV(rf_fes,cv=5,scoring='accuracy')\n",
    "    rfe.fit(X_train, y_train)\n",
    "    with open(rfecv_file, 'wb') as rfe_cv:\n",
    "        pl.dump(rfe, rfe_cv)"
   ]
  },
  {
   "cell_type": "code",
   "execution_count": null,
   "metadata": {},
   "outputs": [],
   "source": [
    "with open(rfecv_file, 'wb') as rfe_cv:\n",
    "        pl.dump(rfe, rfe_cv)"
   ]
  },
  {
   "cell_type": "code",
   "execution_count": 16,
   "metadata": {},
   "outputs": [],
   "source": [
    "# rfe=RFECV(rf_fes,cv=5,scoring='accuracy')\n",
    "# rfe.fit(X_train, y_train)"
   ]
  },
  {
   "cell_type": "code",
   "execution_count": 17,
   "metadata": {},
   "outputs": [],
   "source": [
    "# rfe.get_support()"
   ]
  },
  {
   "cell_type": "code",
   "execution_count": 18,
   "metadata": {},
   "outputs": [],
   "source": [
    "# feature_selected=[]\n",
    "# for col_name, col_vec in list(zip(X_train.columns, rfe.get_support())):\n",
    "#     if(col_vec == True):\n",
    "#         feature_selected.append(col_name)\n",
    "\n",
    "feature_selected=[col_name for col_name, col_vec in list(zip(X_train.columns, rfe.get_support())) if(col_vec == True)]\n",
    "new_X=X_train[feature_selected]"
   ]
  },
  {
   "cell_type": "markdown",
   "metadata": {},
   "source": [
    "# Actual prediction"
   ]
  },
  {
   "cell_type": "code",
   "execution_count": null,
   "metadata": {},
   "outputs": [],
   "source": [
    "rf_actual=RandomForestClassifier(random_state=0)\n",
    "rf_actual.fit(new_X, y_train)"
   ]
  },
  {
   "cell_type": "markdown",
   "metadata": {},
   "source": [
    "Prediction using the test dataset"
   ]
  },
  {
   "cell_type": "code",
   "execution_count": 20,
   "metadata": {},
   "outputs": [],
   "source": [
    "# test.head()\n",
    "for test_col in test.columns:\n",
    "    test[test_col]=label_encoder.fit_transform(test[test_col])\n",
    "test=test[feature_selected]"
   ]
  },
  {
   "cell_type": "code",
   "execution_count": null,
   "metadata": {},
   "outputs": [],
   "source": [
    "y_pred=rf_actual.predict(test)\n",
    "len(y_pred)"
   ]
  },
  {
   "cell_type": "markdown",
   "metadata": {},
   "source": [
    "# Mapped y 'attack_cat' which is the target"
   ]
  },
  {
   "cell_type": "code",
   "execution_count": 22,
   "metadata": {},
   "outputs": [],
   "source": [
    "map_y=Series(list(zip(unencoded_y, encoded_y)), name='mapped_y')\n",
    "mapped_y=[cat_list for cat_list, cat_count in map_y.value_counts().sort_index().items()]"
   ]
  },
  {
   "cell_type": "markdown",
   "metadata": {},
   "source": [
    "# Interpret y_pred to attack category"
   ]
  },
  {
   "cell_type": "code",
   "execution_count": null,
   "metadata": {},
   "outputs": [],
   "source": [
    "y_pred_attack_cat=[]\n",
    "for y_pred_i in y_pred:\n",
    "    # print(y_pred_i)\n",
    "    for cat, enc in mapped_y:\n",
    "        if(y_pred_i == enc):\n",
    "            y_pred_attack_cat.append(cat)\n",
    "            break\n",
    "# y_pred_attack_cat\n",
    "Y_pred_att_cat=Series(y_pred_attack_cat, name='y_pred_attack_category')\n",
    "X_plt=[cat_list[0] for cat_list in list(Y_pred_att_cat.value_counts().sort_values().items())]\n",
    "y_plt=[cat_list[1] for cat_list in list(Y_pred_att_cat.value_counts().sort_values().items())]\n",
    "\n",
    "list(Y_pred_att_cat.value_counts().sort_values().items())"
   ]
  },
  {
   "cell_type": "code",
   "execution_count": null,
   "metadata": {},
   "outputs": [],
   "source": [
    "plt.figure(figsize=(9,7))\n",
    "\n",
    "plt.plot(X_plt, y_plt, marker='d', ms=5)\n",
    "plt.tight_layout()\n",
    "plt.show()"
   ]
  }
 ],
 "metadata": {
  "kernelspec": {
   "display_name": "Python 3",
   "language": "python",
   "name": "python3"
  },
  "language_info": {
   "codemirror_mode": {
    "name": "ipython",
    "version": 3
   },
   "file_extension": ".py",
   "mimetype": "text/x-python",
   "name": "python",
   "nbconvert_exporter": "python",
   "pygments_lexer": "ipython3",
   "version": "3.12.6"
  }
 },
 "nbformat": 4,
 "nbformat_minor": 2
}
